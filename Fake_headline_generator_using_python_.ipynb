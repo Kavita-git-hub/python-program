{
  "nbformat": 4,
  "nbformat_minor": 0,
  "metadata": {
    "colab": {
      "provenance": [],
      "authorship_tag": "ABX9TyORKBxM2hoX1NguCrcyj/Xo",
      "include_colab_link": true
    },
    "kernelspec": {
      "name": "python3",
      "display_name": "Python 3"
    },
    "language_info": {
      "name": "python"
    }
  },
  "cells": [
    {
      "cell_type": "markdown",
      "metadata": {
        "id": "view-in-github",
        "colab_type": "text"
      },
      "source": [
        "<a href=\"https://colab.research.google.com/github/Kavita-git-hub/python-program/blob/main/Fake_headline_generator_using_python_.ipynb\" target=\"_parent\"><img src=\"https://colab.research.google.com/assets/colab-badge.svg\" alt=\"Open In Colab\"/></a>"
      ]
    },
    {
      "cell_type": "code",
      "execution_count": 2,
      "metadata": {
        "id": "xDUVA-5e-Pq4"
      },
      "outputs": [],
      "source": [
        "#Fake News HEADLINE generator\n",
        "#\"Shahrukh khan spotted Ridin a Buffalo Near India Gate \""
      ]
    },
    {
      "cell_type": "code",
      "source": [
        "#1.\tIMPORT the “random” module\n",
        "import random"
      ],
      "metadata": {
        "id": "pJG66Lma_pRg"
      },
      "execution_count": 3,
      "outputs": []
    },
    {
      "cell_type": "code",
      "source": [
        "#2 create subjects\n",
        "subjects = [\n",
        "             \"Shahrukh khan \",\n",
        "             \"Virat kohli\" ,\n",
        "             \"Niramla Sitharaman\" ,\n",
        "             \"A Mumbai cat\"  ,\n",
        "             \"A group of monkey\" ,\n",
        "             \"Prime Minister modi\" ,\n",
        "             \"auto Rickshow Driver From delhi\"\n",
        "             ]\n",
        "\n",
        "Actions =  [\n",
        "            \"lunches\" ,\n",
        "            \"cancles\",\n",
        "            \"dance with \",\n",
        "            \"eats\",\n",
        "            \"decleares war on \",\n",
        "            \"order\",\n",
        "            \"celebrates\"\n",
        "            ]\n",
        "\n",
        "Places_or_Thing = [\n",
        "            \"Red fort\",\n",
        "            \"in mumbai Train\",\n",
        "            \"A Plate of samosa\" ,\n",
        "            \"Inside a parment\" ,\n",
        "            \"during IPL Match\",\n",
        "            \"At india gate\"\n",
        "            ]"
      ],
      "metadata": {
        "id": "lwbKjP19_pMN"
      },
      "execution_count": 1,
      "outputs": []
    },
    {
      "cell_type": "code",
      "source": [
        "# 3 start the headline generation loop\n",
        "while True:\n",
        "  Subject = random.choice(subjects)\n",
        "  Action = random.choice(Actions)\n",
        "  Place_or_Thing = random.choice(Places_or_Thing) # Corrected variable name\n",
        "\n",
        "  # Generate and print the headline\n",
        "  headline = f\" Breaking News : {Subject}{Action}{Place_or_Thing}\"\n",
        "\n",
        "  print(\"\\n\" + headline)\n",
        "\n",
        "  # Ask if the user wants another headline\n",
        "  another_headline = input(\"Generate another headline? (yes/no): \")\n",
        "  if another_headline.lower() != 'yes':                     #r = rigth # l = left\n",
        "    print(\"thank you for using headline generator\")\n",
        "  break # Exit the loop if the user does not want another headline"
      ],
      "metadata": {
        "colab": {
          "base_uri": "https://localhost:8080/"
        },
        "id": "AQmY8eDG_pIu",
        "outputId": "17dd24d4-8a7b-4fb8-da42-d7b826cbeb69"
      },
      "execution_count": 7,
      "outputs": [
        {
          "output_type": "stream",
          "name": "stdout",
          "text": [
            "\n",
            " Breaking News : Niramla SitharamancanclesRed fort\n",
            "Generate another headline? (yes/no): edee\n",
            "thank you for using headline generator\n"
          ]
        }
      ]
    },
    {
      "cell_type": "code",
      "source": [],
      "metadata": {
        "id": "WR--leXu_pGo"
      },
      "execution_count": 13,
      "outputs": []
    },
    {
      "cell_type": "code",
      "source": [],
      "metadata": {
        "id": "qC15dVwV_pDQ"
      },
      "execution_count": 13,
      "outputs": []
    },
    {
      "cell_type": "code",
      "source": [],
      "metadata": {
        "id": "-o6BiDCQ_pBr"
      },
      "execution_count": 13,
      "outputs": []
    },
    {
      "cell_type": "code",
      "source": [],
      "metadata": {
        "id": "M4fy1M-k_oxw"
      },
      "execution_count": 13,
      "outputs": []
    },
    {
      "cell_type": "code",
      "source": [],
      "metadata": {
        "id": "H1u-w6zP_ovv"
      },
      "execution_count": 13,
      "outputs": []
    }
  ]
}