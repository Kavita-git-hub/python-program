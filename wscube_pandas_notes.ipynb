{
  "nbformat": 4,
  "nbformat_minor": 0,
  "metadata": {
    "colab": {
      "provenance": [],
      "authorship_tag": "ABX9TyMvG88dUz2HDn/bnGfZb6SF",
      "include_colab_link": true
    },
    "kernelspec": {
      "name": "python3",
      "display_name": "Python 3"
    },
    "language_info": {
      "name": "python"
    }
  },
  "cells": [
    {
      "cell_type": "markdown",
      "metadata": {
        "id": "view-in-github",
        "colab_type": "text"
      },
      "source": [
        "<a href=\"https://colab.research.google.com/github/Kavita-git-hub/python-program/blob/main/wscube_pandas_notes.ipynb\" target=\"_parent\"><img src=\"https://colab.research.google.com/assets/colab-badge.svg\" alt=\"Open In Colab\"/></a>"
      ]
    },
    {
      "cell_type": "code",
      "execution_count": 1,
      "metadata": {
        "id": "_9PAdxF_APcN"
      },
      "outputs": [],
      "source": [
        "#write a program to add two numbers in python\n",
        "#Solution (with predefined veriables)"
      ]
    },
    {
      "cell_type": "code",
      "source": [
        "num1 = 30\n",
        "num2= 20\n",
        "print(\"the sum of given number is \", num1+num2) #instead we will use num1+num2 we can use sum then answer will be same\n",
        "sum = num1 + num2\n",
        "print(sum)"
      ],
      "metadata": {
        "colab": {
          "base_uri": "https://localhost:8080/"
        },
        "id": "Z2joNOzFBmlk",
        "outputId": "ec2274ce-3f14-45d1-b8db-9ff85eea0c03"
      },
      "execution_count": 5,
      "outputs": [
        {
          "output_type": "stream",
          "name": "stdout",
          "text": [
            "the sum of given number is  50\n",
            "50\n"
          ]
        }
      ]
    },
    {
      "cell_type": "code",
      "source": [
        "#solution 2  (with user inputs)"
      ],
      "metadata": {
        "id": "yUpy_AEwCI6K"
      },
      "execution_count": null,
      "outputs": []
    },
    {
      "cell_type": "code",
      "source": [
        "num1= float (input(\"enter the first number \"))\n",
        "num2= float (input(\"enter the second number \"))\n",
        "sum = num1 + num2\n",
        "print(sum)0\n"
      ],
      "metadata": {
        "colab": {
          "base_uri": "https://localhost:8080/"
        },
        "id": "azLcD3uWC7Zg",
        "outputId": "c8818b8e-62d8-4667-fbac-d5b5bd929387"
      },
      "execution_count": 7,
      "outputs": [
        {
          "output_type": "stream",
          "name": "stdout",
          "text": [
            "enter the first number 20\n",
            "enter the second number 3\n",
            "23.0\n"
          ]
        }
      ]
    },
    {
      "cell_type": "code",
      "source": [
        "#write a program of python to print \"hello world\""
      ],
      "metadata": {
        "id": "QlFMqH9gC7VT"
      },
      "execution_count": null,
      "outputs": []
    },
    {
      "cell_type": "code",
      "source": [
        "print(\"hello world\")"
      ],
      "metadata": {
        "colab": {
          "base_uri": "https://localhost:8080/"
        },
        "id": "tp6-Y3RiC7Mc",
        "outputId": "1c8d39d7-d0d3-439d-ca8c-8668b8ac4615"
      },
      "execution_count": 8,
      "outputs": [
        {
          "output_type": "stream",
          "name": "stdout",
          "text": [
            "hello world\n"
          ]
        }
      ]
    },
    {
      "cell_type": "code",
      "source": [
        "#write a program  to fine square root function"
      ],
      "metadata": {
        "id": "lmRt8VLtC7JJ"
      },
      "execution_count": null,
      "outputs": []
    },
    {
      "cell_type": "code",
      "source": [
        "#(using exponentioanl)\n",
        "num= 45\n",
        "num1= int(input(\"Enter a number here :\"))\n",
        "sr = num**(1/2)\n",
        "print(\"the square root of the given number is \",sr)"
      ],
      "metadata": {
        "colab": {
          "base_uri": "https://localhost:8080/"
        },
        "id": "oZq4UW8zC7G-",
        "outputId": "0c07da83-2da2-4f65-ac50-2bf3d39b2818"
      },
      "execution_count": 16,
      "outputs": [
        {
          "output_type": "stream",
          "name": "stdout",
          "text": [
            "Enter a number here :45\n",
            "the square root of the given number is  6.708203932499369\n"
          ]
        }
      ]
    },
    {
      "cell_type": "code",
      "source": [
        "num= 49\n",
        "num1= int(input(\"Enter a number here :\"))\n",
        "sr = num**(1/2)\n",
        "print(\"the square root of the given number is \",sr)"
      ],
      "metadata": {
        "colab": {
          "base_uri": "https://localhost:8080/"
        },
        "id": "vHJIxxNbC7Ee",
        "outputId": "6ca2f18e-13c4-4e08-da58-dc6c3362b2f3"
      },
      "execution_count": 15,
      "outputs": [
        {
          "output_type": "stream",
          "name": "stdout",
          "text": [
            "Enter a number here :49\n",
            "the square root of the given number is  7.0\n"
          ]
        }
      ]
    },
    {
      "cell_type": "code",
      "source": [
        "#second method (usinf math module)\n",
        "import math\n",
        "num = int (input(\"enter a number here :\"))\n",
        "sr = math.sqrt(num)\n",
        "print(\"the square root of the given number is\",sr)"
      ],
      "metadata": {
        "colab": {
          "base_uri": "https://localhost:8080/"
        },
        "id": "FJ0PeW5kC7CK",
        "outputId": "76394324-286b-40d4-fef3-3a201cf51c5f"
      },
      "execution_count": 17,
      "outputs": [
        {
          "output_type": "stream",
          "name": "stdout",
          "text": [
            "enter a number here :64\n",
            "the square root of the given number is 8.0\n"
          ]
        }
      ]
    },
    {
      "cell_type": "code",
      "source": [
        "#python program of area of a tringle\n",
        "height = float(input(\"Enter the height of the triagle :\"))\n",
        "base = float(input(\"Enter the base of the traigle :\"))\n",
        "\n",
        "area = 0.5*base*height\n",
        "print(\"the area of a tringle\", area)"
      ],
      "metadata": {
        "colab": {
          "base_uri": "https://localhost:8080/"
        },
        "id": "_MQdsLtqC69D",
        "outputId": "a0ac792c-715f-4cc1-c324-df4d55308b02"
      },
      "execution_count": 18,
      "outputs": [
        {
          "output_type": "stream",
          "name": "stdout",
          "text": [
            "Enter the height of the triagle :34\n",
            "Enter the base of the traigle :2.3\n",
            "the area of a tringle 39.099999999999994\n"
          ]
        }
      ]
    },
    {
      "cell_type": "code",
      "source": [],
      "metadata": {
        "id": "kKfrwZESGbPH"
      },
      "execution_count": null,
      "outputs": []
    },
    {
      "cell_type": "code",
      "source": [],
      "metadata": {
        "id": "VNRsKx9OGbMd"
      },
      "execution_count": null,
      "outputs": []
    },
    {
      "cell_type": "code",
      "source": [],
      "metadata": {
        "id": "sdZzMPfZGbIn"
      },
      "execution_count": null,
      "outputs": []
    },
    {
      "cell_type": "code",
      "source": [],
      "metadata": {
        "id": "YMMbAAQPGbGh"
      },
      "execution_count": null,
      "outputs": []
    },
    {
      "cell_type": "code",
      "source": [],
      "metadata": {
        "id": "ip6oGyCqGa8Y"
      },
      "execution_count": null,
      "outputs": []
    },
    {
      "cell_type": "code",
      "source": [],
      "metadata": {
        "id": "C9JeGEjCGa6a"
      },
      "execution_count": null,
      "outputs": []
    },
    {
      "cell_type": "code",
      "source": [],
      "metadata": {
        "id": "_GMSWiHvGa3S"
      },
      "execution_count": null,
      "outputs": []
    },
    {
      "cell_type": "code",
      "source": [],
      "metadata": {
        "id": "9GZAj-mwGa1M"
      },
      "execution_count": null,
      "outputs": []
    }
  ]
}