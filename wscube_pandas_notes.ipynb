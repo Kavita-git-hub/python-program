{
  "nbformat": 4,
  "nbformat_minor": 0,
  "metadata": {
    "colab": {
      "provenance": [],
      "authorship_tag": "ABX9TyMDk6OWtiSYL8eGUCLdiat+",
      "include_colab_link": true
    },
    "kernelspec": {
      "name": "python3",
      "display_name": "Python 3"
    },
    "language_info": {
      "name": "python"
    }
  },
  "cells": [
    {
      "cell_type": "markdown",
      "metadata": {
        "id": "view-in-github",
        "colab_type": "text"
      },
      "source": [
        "<a href=\"https://colab.research.google.com/github/Kavita-git-hub/python-program/blob/main/wscube_pandas_notes.ipynb\" target=\"_parent\"><img src=\"https://colab.research.google.com/assets/colab-badge.svg\" alt=\"Open In Colab\"/></a>"
      ]
    },
    {
      "cell_type": "code",
      "execution_count": 1,
      "metadata": {
        "id": "_9PAdxF_APcN"
      },
      "outputs": [],
      "source": [
        "#write a program to add two numbers in python\n",
        "#Solution (with predefined veriables)"
      ]
    },
    {
      "cell_type": "code",
      "source": [
        "num1 = 30\n",
        "num2= 20\n",
        "print(\"the sum of given number is \", num1+num2) #instead we will use num1+num2 we can use sum then answer will be same\n",
        "sum = num1 + num2\n",
        "print(sum)"
      ],
      "metadata": {
        "colab": {
          "base_uri": "https://localhost:8080/"
        },
        "id": "Z2joNOzFBmlk",
        "outputId": "ec2274ce-3f14-45d1-b8db-9ff85eea0c03"
      },
      "execution_count": 5,
      "outputs": [
        {
          "output_type": "stream",
          "name": "stdout",
          "text": [
            "the sum of given number is  50\n",
            "50\n"
          ]
        }
      ]
    },
    {
      "cell_type": "code",
      "source": [
        "#solution 2  (with user inputs)"
      ],
      "metadata": {
        "id": "yUpy_AEwCI6K"
      },
      "execution_count": null,
      "outputs": []
    },
    {
      "cell_type": "code",
      "source": [
        "num1= float (input(\"enter the first number \"))\n",
        "num2= float (input(\"enter the second number \"))\n",
        "sum = num1 + num2\n",
        "print(sum)0\n"
      ],
      "metadata": {
        "colab": {
          "base_uri": "https://localhost:8080/"
        },
        "id": "azLcD3uWC7Zg",
        "outputId": "c8818b8e-62d8-4667-fbac-d5b5bd929387"
      },
      "execution_count": 7,
      "outputs": [
        {
          "output_type": "stream",
          "name": "stdout",
          "text": [
            "enter the first number 20\n",
            "enter the second number 3\n",
            "23.0\n"
          ]
        }
      ]
    },
    {
      "cell_type": "code",
      "source": [
        "#write a program of python to print \"hello world\""
      ],
      "metadata": {
        "id": "QlFMqH9gC7VT"
      },
      "execution_count": null,
      "outputs": []
    },
    {
      "cell_type": "code",
      "source": [
        "print(\"hello world\")"
      ],
      "metadata": {
        "colab": {
          "base_uri": "https://localhost:8080/"
        },
        "id": "tp6-Y3RiC7Mc",
        "outputId": "1c8d39d7-d0d3-439d-ca8c-8668b8ac4615"
      },
      "execution_count": 8,
      "outputs": [
        {
          "output_type": "stream",
          "name": "stdout",
          "text": [
            "hello world\n"
          ]
        }
      ]
    },
    {
      "cell_type": "code",
      "source": [
        "#write a program  to fine square root function"
      ],
      "metadata": {
        "id": "lmRt8VLtC7JJ"
      },
      "execution_count": null,
      "outputs": []
    },
    {
      "cell_type": "code",
      "source": [
        "#(using exponentioanl)\n",
        "num= 45\n",
        "num1= int(input(\"Enter a number here :\"))\n",
        "sr = num**(1/2)\n",
        "print(\"the square root of the given number is \",sr)"
      ],
      "metadata": {
        "colab": {
          "base_uri": "https://localhost:8080/"
        },
        "id": "oZq4UW8zC7G-",
        "outputId": "0c07da83-2da2-4f65-ac50-2bf3d39b2818"
      },
      "execution_count": 16,
      "outputs": [
        {
          "output_type": "stream",
          "name": "stdout",
          "text": [
            "Enter a number here :45\n",
            "the square root of the given number is  6.708203932499369\n"
          ]
        }
      ]
    },
    {
      "cell_type": "code",
      "source": [
        "num= 49\n",
        "num1= int(input(\"Enter a number here :\"))\n",
        "sr = num**(1/2)\n",
        "print(\"the square root of the given number is \",sr)"
      ],
      "metadata": {
        "colab": {
          "base_uri": "https://localhost:8080/"
        },
        "id": "vHJIxxNbC7Ee",
        "outputId": "6ca2f18e-13c4-4e08-da58-dc6c3362b2f3"
      },
      "execution_count": 15,
      "outputs": [
        {
          "output_type": "stream",
          "name": "stdout",
          "text": [
            "Enter a number here :49\n",
            "the square root of the given number is  7.0\n"
          ]
        }
      ]
    },
    {
      "cell_type": "code",
      "source": [
        "#second method (usinf math module)\n",
        "import math\n",
        "num = int (input(\"enter a number here :\"))\n",
        "sr = math.sqrt(num)\n",
        "print(\"the square root of the given number is\",sr)"
      ],
      "metadata": {
        "colab": {
          "base_uri": "https://localhost:8080/"
        },
        "id": "FJ0PeW5kC7CK",
        "outputId": "76394324-286b-40d4-fef3-3a201cf51c5f"
      },
      "execution_count": 17,
      "outputs": [
        {
          "output_type": "stream",
          "name": "stdout",
          "text": [
            "enter a number here :64\n",
            "the square root of the given number is 8.0\n"
          ]
        }
      ]
    },
    {
      "cell_type": "code",
      "source": [
        "#python program of area of a tringle\n",
        "height = float(input(\"Enter the height of the triagle :\"))\n",
        "base = float(input(\"Enter the base of the traigle :\"))\n",
        "\n",
        "area = 0.5*base*height\n",
        "print(\"the area of a tringle\", area)"
      ],
      "metadata": {
        "colab": {
          "base_uri": "https://localhost:8080/"
        },
        "id": "_MQdsLtqC69D",
        "outputId": "a0ac792c-715f-4cc1-c324-df4d55308b02"
      },
      "execution_count": 18,
      "outputs": [
        {
          "output_type": "stream",
          "name": "stdout",
          "text": [
            "Enter the height of the triagle :34\n",
            "Enter the base of the traigle :2.3\n",
            "the area of a tringle 39.099999999999994\n"
          ]
        }
      ]
    },
    {
      "cell_type": "code",
      "source": [
        "#python program of to swap two variables\n",
        "x = 13\n",
        "y = 12\n",
        "temp = x #(13)\n",
        "print (\"the value of temp varible is \",temp)\n",
        "\n",
        "\n",
        "x = y\n",
        "print(\"the value of x is \",x)\n",
        "y = temp\n",
        "print(\"the value of y is \", y)"
      ],
      "metadata": {
        "colab": {
          "base_uri": "https://localhost:8080/"
        },
        "id": "kKfrwZESGbPH",
        "outputId": "93ba9644-1798-4ca9-c96a-a9bc962f27da"
      },
      "execution_count": 23,
      "outputs": [
        {
          "output_type": "stream",
          "name": "stdout",
          "text": [
            "the value of temp varible is  13\n",
            "the value of x is  12\n",
            "the value of y is  13\n"
          ]
        }
      ]
    },
    {
      "cell_type": "code",
      "source": [
        "x = 12\n",
        "y = 13\n",
        "x,y = y,x\n",
        "print (\"the value of x is \",x)\n",
        "print (\"the value of y is \",y)"
      ],
      "metadata": {
        "colab": {
          "base_uri": "https://localhost:8080/"
        },
        "id": "VNRsKx9OGbMd",
        "outputId": "95872750-22f5-4d2f-c881-a59d9275b685"
      },
      "execution_count": 24,
      "outputs": [
        {
          "output_type": "stream",
          "name": "stdout",
          "text": [
            "the value of x is  13\n",
            "the value of y is  12\n"
          ]
        }
      ]
    },
    {
      "cell_type": "code",
      "source": [
        "#solution2 (without using 3rd varible)\n",
        "x = 12\n",
        "y = 13\n",
        "x = x+y\n",
        "y = x-y\n",
        "x = x-y\n",
        "print (\"the value of x is \",x)\n",
        "print (\"the value of y is \",y)\n",
        "\n"
      ],
      "metadata": {
        "colab": {
          "base_uri": "https://localhost:8080/"
        },
        "id": "sdZzMPfZGbIn",
        "outputId": "0e4806e6-5be9-48c5-e6a8-31f3b95b0673"
      },
      "execution_count": 25,
      "outputs": [
        {
          "output_type": "stream",
          "name": "stdout",
          "text": [
            "the value of x is  13\n",
            "the value of y is  12\n"
          ]
        }
      ]
    },
    {
      "cell_type": "code",
      "source": [
        "#program to convert kilometers to miles\n",
        " #1 kilometer = 0.621371 mile\n",
        ""
      ],
      "metadata": {
        "id": "YMMbAAQPGbGh"
      },
      "execution_count": null,
      "outputs": []
    },
    {
      "cell_type": "code",
      "source": [
        "km= float (input(\"enter your values in kms:\"))\n",
        "miles = km*0.621371\n",
        "print(\"the value of miles is \",miles)\n"
      ],
      "metadata": {
        "colab": {
          "base_uri": "https://localhost:8080/"
        },
        "id": "ip6oGyCqGa8Y",
        "outputId": "24f12594-f943-40c2-eab7-9f771364811d"
      },
      "execution_count": 26,
      "outputs": [
        {
          "output_type": "stream",
          "name": "stdout",
          "text": [
            "enter your values in kms:23\n",
            "the value of miles is  14.291533\n"
          ]
        }
      ]
    },
    {
      "cell_type": "code",
      "source": [
        "#python program to check if a number is positive or negative  or 0\n",
        "#(using conditional statement)\n",
        "num = 12\n",
        "if num > 0:\n",
        "    print(\"the number is positive\")\n",
        "if num < 0:\n",
        "  print(\"the number is negative\")\n",
        "  if num == 0:\n",
        "    print(\"the number is zero\")"
      ],
      "metadata": {
        "colab": {
          "base_uri": "https://localhost:8080/"
        },
        "id": "C9JeGEjCGa6a",
        "outputId": "6efa0414-e536-4fdb-cade-d453a9432c7d"
      },
      "execution_count": 29,
      "outputs": [
        {
          "output_type": "stream",
          "name": "stdout",
          "text": [
            "the number is positive\n"
          ]
        }
      ]
    },
    {
      "cell_type": "code",
      "source": [
        "num = int(input(\"enter a number here :\"))\n",
        "if num > 0:\n",
        "    print(\"the number is positive\")\n",
        "if num < 0:\n",
        "  print(\"the number is negative\")\n",
        "  if num == 0:\n",
        "    print(\"the number is zero\")"
      ],
      "metadata": {
        "colab": {
          "base_uri": "https://localhost:8080/"
        },
        "id": "_GMSWiHvGa3S",
        "outputId": "90589e63-42c9-4e98-afc3-66614c7e1109"
      },
      "execution_count": 31,
      "outputs": [
        {
          "output_type": "stream",
          "name": "stdout",
          "text": [
            "enter a number here :-8765432\n",
            "the number is negative\n"
          ]
        }
      ]
    },
    {
      "cell_type": "code",
      "source": [
        "#python programs to check if number is odd, even\n",
        "num = int(input(\"Enter the number\"))\n",
        "\n",
        "if num % 2 == 0:\n",
        "\n",
        "  print (\"it is an even number\")\n",
        "\n",
        "else:\n",
        "  print (\"it is an odd number\")"
      ],
      "metadata": {
        "id": "9GZAj-mwGa1M"
      },
      "execution_count": null,
      "outputs": []
    },
    {
      "cell_type": "code",
      "source": [],
      "metadata": {
        "id": "mEA1bUgvRc0Z"
      },
      "execution_count": null,
      "outputs": []
    },
    {
      "cell_type": "code",
      "source": [],
      "metadata": {
        "id": "plCEGH61Rcxy"
      },
      "execution_count": null,
      "outputs": []
    },
    {
      "cell_type": "code",
      "source": [],
      "metadata": {
        "id": "6KNs_02ARctR"
      },
      "execution_count": null,
      "outputs": []
    },
    {
      "cell_type": "code",
      "source": [],
      "metadata": {
        "id": "C4cqOUIdRcrB"
      },
      "execution_count": null,
      "outputs": []
    },
    {
      "cell_type": "code",
      "source": [],
      "metadata": {
        "id": "oWtEq7iuRcoA"
      },
      "execution_count": null,
      "outputs": []
    },
    {
      "cell_type": "code",
      "source": [],
      "metadata": {
        "id": "_x7YvG9hRckn"
      },
      "execution_count": null,
      "outputs": []
    }
  ]
}