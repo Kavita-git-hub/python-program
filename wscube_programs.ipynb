{
  "nbformat": 4,
  "nbformat_minor": 0,
  "metadata": {
    "colab": {
      "provenance": [],
      "authorship_tag": "ABX9TyPztIlXMfTib+PpnPnxaULK",
      "include_colab_link": true
    },
    "kernelspec": {
      "name": "python3",
      "display_name": "Python 3"
    },
    "language_info": {
      "name": "python"
    }
  },
  "cells": [
    {
      "cell_type": "markdown",
      "metadata": {
        "id": "view-in-github",
        "colab_type": "text"
      },
      "source": [
        "<a href=\"https://colab.research.google.com/github/Kavita-git-hub/python-program/blob/main/wscube_programs.ipynb\" target=\"_parent\"><img src=\"https://colab.research.google.com/assets/colab-badge.svg\" alt=\"Open In Colab\"/></a>"
      ]
    },
    {
      "cell_type": "code",
      "execution_count": 1,
      "metadata": {
        "id": "_9PAdxF_APcN"
      },
      "outputs": [],
      "source": [
        "#write a program to add two numbers in python\n",
        "#Solution (with predefined veriables)"
      ]
    },
    {
      "cell_type": "code",
      "source": [
        "num1 = 30\n",
        "num2= 20\n",
        "print(\"the sum of given number is \", num1+num2) #instead we will use num1+num2 we can use sum then answer will be same\n",
        "sum = num1 + num2\n",
        "print(sum)"
      ],
      "metadata": {
        "colab": {
          "base_uri": "https://localhost:8080/"
        },
        "id": "Z2joNOzFBmlk",
        "outputId": "ec2274ce-3f14-45d1-b8db-9ff85eea0c03"
      },
      "execution_count": 5,
      "outputs": [
        {
          "output_type": "stream",
          "name": "stdout",
          "text": [
            "the sum of given number is  50\n",
            "50\n"
          ]
        }
      ]
    },
    {
      "cell_type": "code",
      "source": [
        "#solution 2  (with user inputs)"
      ],
      "metadata": {
        "id": "yUpy_AEwCI6K"
      },
      "execution_count": null,
      "outputs": []
    },
    {
      "cell_type": "code",
      "source": [
        "num1= float (input(\"enter the first number \"))\n",
        "num2= float (input(\"enter the second number \"))\n",
        "sum = num1 + num2\n",
        "print(sum)0\n"
      ],
      "metadata": {
        "colab": {
          "base_uri": "https://localhost:8080/"
        },
        "id": "azLcD3uWC7Zg",
        "outputId": "c8818b8e-62d8-4667-fbac-d5b5bd929387"
      },
      "execution_count": 7,
      "outputs": [
        {
          "output_type": "stream",
          "name": "stdout",
          "text": [
            "enter the first number 20\n",
            "enter the second number 3\n",
            "23.0\n"
          ]
        }
      ]
    },
    {
      "cell_type": "code",
      "source": [
        "#write a program of python to print \"hello world\""
      ],
      "metadata": {
        "id": "QlFMqH9gC7VT"
      },
      "execution_count": null,
      "outputs": []
    },
    {
      "cell_type": "code",
      "source": [
        "print(\"hello world\")"
      ],
      "metadata": {
        "colab": {
          "base_uri": "https://localhost:8080/"
        },
        "id": "tp6-Y3RiC7Mc",
        "outputId": "1c8d39d7-d0d3-439d-ca8c-8668b8ac4615"
      },
      "execution_count": 8,
      "outputs": [
        {
          "output_type": "stream",
          "name": "stdout",
          "text": [
            "hello world\n"
          ]
        }
      ]
    },
    {
      "cell_type": "code",
      "source": [
        "#write a program  to fine square root function"
      ],
      "metadata": {
        "id": "lmRt8VLtC7JJ"
      },
      "execution_count": null,
      "outputs": []
    },
    {
      "cell_type": "code",
      "source": [
        "#(using exponentioanl)\n",
        "num= 45\n",
        "num1= int(input(\"Enter a number here :\"))\n",
        "sr = num**(1/2)\n",
        "print(\"the square root of the given number is \",sr)"
      ],
      "metadata": {
        "colab": {
          "base_uri": "https://localhost:8080/"
        },
        "id": "oZq4UW8zC7G-",
        "outputId": "0c07da83-2da2-4f65-ac50-2bf3d39b2818"
      },
      "execution_count": 16,
      "outputs": [
        {
          "output_type": "stream",
          "name": "stdout",
          "text": [
            "Enter a number here :45\n",
            "the square root of the given number is  6.708203932499369\n"
          ]
        }
      ]
    },
    {
      "cell_type": "code",
      "source": [
        "num= 49\n",
        "num1= int(input(\"Enter a number here :\"))\n",
        "sr = num**(1/2)\n",
        "print(\"the square root of the given number is \",sr)"
      ],
      "metadata": {
        "colab": {
          "base_uri": "https://localhost:8080/"
        },
        "id": "vHJIxxNbC7Ee",
        "outputId": "6ca2f18e-13c4-4e08-da58-dc6c3362b2f3"
      },
      "execution_count": 15,
      "outputs": [
        {
          "output_type": "stream",
          "name": "stdout",
          "text": [
            "Enter a number here :49\n",
            "the square root of the given number is  7.0\n"
          ]
        }
      ]
    },
    {
      "cell_type": "code",
      "source": [
        "#second method (usinf math module)\n",
        "import math\n",
        "num = int (input(\"enter a number here :\"))\n",
        "sr = math.sqrt(num)\n",
        "print(\"the square root of the given number is\",sr)"
      ],
      "metadata": {
        "colab": {
          "base_uri": "https://localhost:8080/"
        },
        "id": "FJ0PeW5kC7CK",
        "outputId": "76394324-286b-40d4-fef3-3a201cf51c5f"
      },
      "execution_count": 17,
      "outputs": [
        {
          "output_type": "stream",
          "name": "stdout",
          "text": [
            "enter a number here :64\n",
            "the square root of the given number is 8.0\n"
          ]
        }
      ]
    },
    {
      "cell_type": "code",
      "source": [
        "#python program of area of a tringle\n",
        "height = float(input(\"Enter the height of the triagle :\"))\n",
        "base = float(input(\"Enter the base of the traigle :\"))\n",
        "\n",
        "area = 0.5*base*height\n",
        "print(\"the area of a tringle\", area)"
      ],
      "metadata": {
        "colab": {
          "base_uri": "https://localhost:8080/"
        },
        "id": "_MQdsLtqC69D",
        "outputId": "a0ac792c-715f-4cc1-c324-df4d55308b02"
      },
      "execution_count": 18,
      "outputs": [
        {
          "output_type": "stream",
          "name": "stdout",
          "text": [
            "Enter the height of the triagle :34\n",
            "Enter the base of the traigle :2.3\n",
            "the area of a tringle 39.099999999999994\n"
          ]
        }
      ]
    },
    {
      "cell_type": "code",
      "source": [
        "#python program of to swap two variables\n",
        "x = 13\n",
        "y = 12\n",
        "temp = x #(13)\n",
        "print (\"the value of temp varible is \",temp)\n",
        "\n",
        "\n",
        "x = y\n",
        "print(\"the value of x is \",x)\n",
        "y = temp\n",
        "print(\"the value of y is \", y)"
      ],
      "metadata": {
        "colab": {
          "base_uri": "https://localhost:8080/"
        },
        "id": "kKfrwZESGbPH",
        "outputId": "93ba9644-1798-4ca9-c96a-a9bc962f27da"
      },
      "execution_count": 23,
      "outputs": [
        {
          "output_type": "stream",
          "name": "stdout",
          "text": [
            "the value of temp varible is  13\n",
            "the value of x is  12\n",
            "the value of y is  13\n"
          ]
        }
      ]
    },
    {
      "cell_type": "code",
      "source": [
        "x = 12\n",
        "y = 13\n",
        "x,y = y,x\n",
        "print (\"the value of x is \",x)\n",
        "print (\"the value of y is \",y)"
      ],
      "metadata": {
        "colab": {
          "base_uri": "https://localhost:8080/"
        },
        "id": "VNRsKx9OGbMd",
        "outputId": "95872750-22f5-4d2f-c881-a59d9275b685"
      },
      "execution_count": 24,
      "outputs": [
        {
          "output_type": "stream",
          "name": "stdout",
          "text": [
            "the value of x is  13\n",
            "the value of y is  12\n"
          ]
        }
      ]
    },
    {
      "cell_type": "code",
      "source": [
        "#solution2 (without using 3rd varible)\n",
        "x = 12\n",
        "y = 13\n",
        "x = x+y\n",
        "y = x-y\n",
        "x = x-y\n",
        "print (\"the value of x is \",x)\n",
        "print (\"the value of y is \",y)\n",
        "\n"
      ],
      "metadata": {
        "colab": {
          "base_uri": "https://localhost:8080/"
        },
        "id": "sdZzMPfZGbIn",
        "outputId": "0e4806e6-5be9-48c5-e6a8-31f3b95b0673"
      },
      "execution_count": 25,
      "outputs": [
        {
          "output_type": "stream",
          "name": "stdout",
          "text": [
            "the value of x is  13\n",
            "the value of y is  12\n"
          ]
        }
      ]
    },
    {
      "cell_type": "code",
      "source": [
        "#program to convert kilometers to miles\n",
        " #1 kilometer = 0.621371 mile\n",
        ""
      ],
      "metadata": {
        "id": "YMMbAAQPGbGh"
      },
      "execution_count": null,
      "outputs": []
    },
    {
      "cell_type": "code",
      "source": [
        "km= float (input(\"enter your values in kms:\"))\n",
        "miles = km*0.621371\n",
        "print(\"the value of miles is \",miles)\n"
      ],
      "metadata": {
        "colab": {
          "base_uri": "https://localhost:8080/"
        },
        "id": "ip6oGyCqGa8Y",
        "outputId": "24f12594-f943-40c2-eab7-9f771364811d"
      },
      "execution_count": 26,
      "outputs": [
        {
          "output_type": "stream",
          "name": "stdout",
          "text": [
            "enter your values in kms:23\n",
            "the value of miles is  14.291533\n"
          ]
        }
      ]
    },
    {
      "cell_type": "code",
      "source": [
        "#python program to check if a number is positive or negative  or 0\n",
        "#(using conditional statement)\n",
        "num = 12\n",
        "if num > 0:\n",
        "    print(\"the number is positive\")\n",
        "if num < 0:\n",
        "  print(\"the number is negative\")\n",
        "  if num == 0:\n",
        "    print(\"the number is zero\")"
      ],
      "metadata": {
        "colab": {
          "base_uri": "https://localhost:8080/"
        },
        "id": "C9JeGEjCGa6a",
        "outputId": "6efa0414-e536-4fdb-cade-d453a9432c7d"
      },
      "execution_count": 29,
      "outputs": [
        {
          "output_type": "stream",
          "name": "stdout",
          "text": [
            "the number is positive\n"
          ]
        }
      ]
    },
    {
      "cell_type": "code",
      "source": [
        "num = int(input(\"enter a number here :\"))\n",
        "if num > 0:\n",
        "    print(\"the number is positive\")\n",
        "if num < 0:\n",
        "  print(\"the number is negative\")\n",
        "  if num == 0:\n",
        "    print(\"the number is zero\")"
      ],
      "metadata": {
        "colab": {
          "base_uri": "https://localhost:8080/"
        },
        "id": "_GMSWiHvGa3S",
        "outputId": "90589e63-42c9-4e98-afc3-66614c7e1109"
      },
      "execution_count": 31,
      "outputs": [
        {
          "output_type": "stream",
          "name": "stdout",
          "text": [
            "enter a number here :-8765432\n",
            "the number is negative\n"
          ]
        }
      ]
    },
    {
      "cell_type": "code",
      "source": [
        "#python programs to check if number is odd, even\n",
        "num = int(input(\"Enter the number\"))\n",
        "\n",
        "if num % 2 == 0:\n",
        "\n",
        "  print (\"it is an even number\")\n",
        "\n",
        "else:\n",
        "  print (\"it is an odd number\")"
      ],
      "metadata": {
        "colab": {
          "base_uri": "https://localhost:8080/"
        },
        "id": "9GZAj-mwGa1M",
        "outputId": "a7eb86d4-b25a-4fca-acba-cca5d735ea61"
      },
      "execution_count": 51,
      "outputs": [
        {
          "output_type": "stream",
          "name": "stdout",
          "text": [
            "Enter the number56789\n",
            "it is an odd number\n"
          ]
        }
      ]
    },
    {
      "cell_type": "code",
      "source": [
        "#program to check leap year\n",
        "#leap year = 365\n",
        "#leap year  = 366  #1996, 2000,2004,2006"
      ],
      "metadata": {
        "id": "mEA1bUgvRc0Z"
      },
      "execution_count": null,
      "outputs": []
    },
    {
      "cell_type": "code",
      "source": [
        "year = int(input(\"enter the year:\"))\n",
        "if year % 400 == 0 and (year %100 == 0):\n",
        "  print(year, \"it is a leap year\")\n",
        "\n",
        "elif year % 4 == 0 and (year %100 !=0):\n",
        "    print(\"it is a leap year\")\n",
        "\n",
        "else:\n",
        "      print(year, \"it is  not a leap year\")\n"
      ],
      "metadata": {
        "colab": {
          "base_uri": "https://localhost:8080/"
        },
        "id": "plCEGH61Rcxy",
        "outputId": "e5b140c8-f29d-4f52-8829-af3004d408a3"
      },
      "execution_count": 58,
      "outputs": [
        {
          "output_type": "stream",
          "name": "stdout",
          "text": [
            "enter the year:2022\n",
            "2022 it is  not a leap year\n"
          ]
        }
      ]
    },
    {
      "cell_type": "code",
      "source": [
        "#program to find among three numbers\n",
        "num1 = int(input(\"enter the first number:\"))\n",
        "num2 = int(input(\"enter the second number:\"))\n",
        "num3 = int(input(\"enter the third number:\"))\n",
        "\n",
        "\n",
        "if (num1 > num2) and (num2 > num3):\n",
        "    print (num1,\"is the number is the largest number\")\n",
        "elif (num2 > num1) and (num2 > num3):\n",
        "    print (num2,\"is the number is the largest number\")\n",
        "else:\n",
        "    print (num3,\"is the number is the largest number\")"
      ],
      "metadata": {
        "colab": {
          "base_uri": "https://localhost:8080/"
        },
        "id": "6KNs_02ARctR",
        "outputId": "e22697c3-c7f4-477e-d755-b86af848225f"
      },
      "execution_count": 68,
      "outputs": [
        {
          "output_type": "stream",
          "name": "stdout",
          "text": [
            "enter the first number:23456\n",
            "enter the second number:87654\n",
            "enter the third number:098765\n",
            "98765 is the number is the largest number\n"
          ]
        }
      ]
    },
    {
      "cell_type": "code",
      "source": [
        "#write a python program to check prime number\n",
        "\n",
        "num = int(input(\"enter the number:\"))\n",
        "\n",
        "if num == 1 :\n",
        "    print(\"it is not a prime number\")\n",
        "elif num > 1 :\n",
        "    for i in range(2,num):\n",
        "        if num % i == 0 :\n",
        "            print(\"it is not a prime number\")\n",
        "            break\n",
        "    else:\n",
        "        print (\"it is a prime number\")"
      ],
      "metadata": {
        "colab": {
          "base_uri": "https://localhost:8080/"
        },
        "id": "C4cqOUIdRcrB",
        "outputId": "12e70131-925b-415c-cd0d-37b3a6ed071d"
      },
      "execution_count": 84,
      "outputs": [
        {
          "output_type": "stream",
          "name": "stdout",
          "text": [
            "enter the number:6543\n",
            "it is not a prime number\n"
          ]
        }
      ]
    },
    {
      "cell_type": "code",
      "source": [
        "#write a program of python to generate a randonm number"
      ],
      "metadata": {
        "id": "oWtEq7iuRcoA"
      },
      "execution_count": null,
      "outputs": []
    },
    {
      "cell_type": "code",
      "source": [
        "import random\n",
        "\n",
        "num = random.randint(1,6)\n",
        "\n",
        "print(\"num\")"
      ],
      "metadata": {
        "colab": {
          "base_uri": "https://localhost:8080/"
        },
        "id": "6oZTnAIiwdLC",
        "outputId": "969cc5ed-6041-4892-be78-d634aa8dd901"
      },
      "execution_count": 104,
      "outputs": [
        {
          "output_type": "stream",
          "name": "stdout",
          "text": [
            "num\n"
          ]
        }
      ]
    },
    {
      "cell_type": "code",
      "source": [
        "#write a python program to print all prime numbers in an interval\n",
        " #prime number in an interval"
      ],
      "metadata": {
        "id": "8lhIz74VwdD8"
      },
      "execution_count": 103,
      "outputs": []
    },
    {
      "cell_type": "code",
      "source": [
        "lower = int(input(\"Enter the lower number\"))\n",
        "upeer = int(input(\"Enter the upper number\"))\n",
        "\n",
        "for num in range (lower , upeer + 1):\n",
        "  if num > 1 :\n",
        "    for i in range (2,num):\n",
        "      if num % i == 0:\n",
        "        break\n",
        "    else:\n",
        "        print(num)"
      ],
      "metadata": {
        "colab": {
          "base_uri": "https://localhost:8080/"
        },
        "id": "dwd4G5X1wc6M",
        "outputId": "a951c7dd-afd3-4dd8-ff51-3f74e71b9d48"
      },
      "execution_count": 113,
      "outputs": [
        {
          "output_type": "stream",
          "name": "stdout",
          "text": [
            "Enter the lower number5\n",
            "Enter the upper number8\n",
            "5\n",
            "7\n"
          ]
        }
      ]
    },
    {
      "cell_type": "code",
      "source": [
        "#program to convert celcius to fahreneit"
      ],
      "metadata": {
        "id": "gdXCKyXgwc2N"
      },
      "execution_count": null,
      "outputs": []
    },
    {
      "cell_type": "code",
      "source": [
        "#0 degree celsius = 32 fahreneit\n",
        "#c*9/5 + 32 = f\n",
        "\n",
        "celsius = int(input(\"Enter temperature in celcius :\"))\n",
        "fahrenheit = celsius*9/5 + 32\n",
        "print(\"the temperature in fahrenheit is \",fahrenheit)"
      ],
      "metadata": {
        "colab": {
          "base_uri": "https://localhost:8080/"
        },
        "id": "LE9VgD9ewcx3",
        "outputId": "1a034bcb-4b5d-46e8-9f4f-ce458e87ab49"
      },
      "execution_count": 118,
      "outputs": [
        {
          "output_type": "stream",
          "name": "stdout",
          "text": [
            "Enter temperature in celcius :34\n",
            "the temperature in fahrenheit is  93.2\n"
          ]
        }
      ]
    },
    {
      "cell_type": "code",
      "source": [
        "#write a program to find the factorial of a number\n",
        "#factorial = %=5i== 5x4x3x2x1  (recusrsion, for loop)"
      ],
      "metadata": {
        "id": "1-8IpCOrwcve"
      },
      "execution_count": null,
      "outputs": []
    },
    {
      "cell_type": "code",
      "source": [
        "#solution 1\n",
        "num = int(input(\"Enter the number :\"))\n",
        "\n",
        "factorial = 1\n",
        "\n",
        "if num < 0:\n",
        "  print(\"factorial does not exist for negative number\")\n",
        "\n",
        "elif num == 0:\n",
        "  print(\"the factorial of 0 is 1\")\n",
        "\n",
        "else:\n",
        "  for i in range (1,num+1):\n",
        "    factorial = factorial*i\n",
        "  print(\"the factorial of\" ,num,\"is\" ,factorial)"
      ],
      "metadata": {
        "colab": {
          "base_uri": "https://localhost:8080/"
        },
        "id": "uafqbKXzwcsp",
        "outputId": "f1cd8b5f-a386-4ebc-f348-f2e5ea8c8d62"
      },
      "execution_count": 133,
      "outputs": [
        {
          "output_type": "stream",
          "name": "stdout",
          "text": [
            "Enter the number :12\n",
            "the factorial of 12 is 479001600\n"
          ]
        }
      ]
    },
    {
      "cell_type": "code",
      "source": [
        "#recursion using\n",
        "def factorial(n):\n",
        "  if n == 0:\n",
        "    return 1\n",
        "  else:\n",
        "    return n*factorial(n-1)\n",
        "\n",
        "n = 8\n",
        "print(factorial(n))"
      ],
      "metadata": {
        "colab": {
          "base_uri": "https://localhost:8080/"
        },
        "id": "8ZNAniGFwcqU",
        "outputId": "149ab9af-68bf-44db-abea-f3f299e12c06"
      },
      "execution_count": 130,
      "outputs": [
        {
          "output_type": "stream",
          "name": "stdout",
          "text": [
            "40320\n"
          ]
        }
      ]
    },
    {
      "cell_type": "code",
      "source": [],
      "metadata": {
        "id": "bsPku70Nwcnu"
      },
      "execution_count": null,
      "outputs": []
    },
    {
      "cell_type": "code",
      "source": [],
      "metadata": {
        "id": "c8HU148XwclC"
      },
      "execution_count": null,
      "outputs": []
    },
    {
      "cell_type": "code",
      "source": [],
      "metadata": {
        "id": "bNLGPWScwch-"
      },
      "execution_count": null,
      "outputs": []
    },
    {
      "cell_type": "code",
      "source": [],
      "metadata": {
        "id": "H4HO-xF2wcfr"
      },
      "execution_count": null,
      "outputs": []
    },
    {
      "cell_type": "code",
      "source": [],
      "metadata": {
        "id": "_x7YvG9hRckn"
      },
      "execution_count": null,
      "outputs": []
    }
  ]
}